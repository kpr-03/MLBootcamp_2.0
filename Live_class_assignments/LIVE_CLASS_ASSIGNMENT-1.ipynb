{
 "cells": [
  {
   "cell_type": "markdown",
   "id": "f6fa1f9c",
   "metadata": {},
   "source": [
    "##WAP to accept two numbers from the user and display their sum"
   ]
  },
  {
   "cell_type": "code",
   "execution_count": 1,
   "id": "3ae5a9b2",
   "metadata": {},
   "outputs": [
    {
     "name": "stdout",
     "output_type": "stream",
     "text": [
      "Enter first number:1\n",
      "Enter second number:2\n",
      "sum(1,2)=3\n"
     ]
    }
   ],
   "source": [
    "a=int(input(\"Enter first number:\"))\n",
    "b=int(input(\"Enter second number:\"))\n",
    "c=a+b\n",
    "print(\"sum({},{})={}\".format(a,b,c))"
   ]
  },
  {
   "cell_type": "markdown",
   "id": "dc369439",
   "metadata": {},
   "source": [
    "WAP to accept radius of a Circle from the user and calculate area and circumference\n"
   ]
  },
  {
   "cell_type": "code",
   "execution_count": 2,
   "id": "c3eab293",
   "metadata": {},
   "outputs": [
    {
     "name": "stdout",
     "output_type": "stream",
     "text": [
      "radius of circle:2\n",
      "circumference of circle with radius 2.0=12.56\n"
     ]
    }
   ],
   "source": [
    "r=float(input(\"radius of circle:\"))\n",
    "ac=2*3.14*r\n",
    "print(\"circumference of circle with radius {}={}\".format(r,ac))"
   ]
  },
  {
   "cell_type": "markdown",
   "id": "39d44e03",
   "metadata": {},
   "source": [
    "WAP to accept roll number , grade and percentage as input from the user and display it back"
   ]
  },
  {
   "cell_type": "code",
   "execution_count": 3,
   "id": "bfa42f43",
   "metadata": {},
   "outputs": [
    {
     "name": "stdout",
     "output_type": "stream",
     "text": [
      "Enter Roll number:11\n",
      "Enter grade:a\n",
      "Enter percentage78\n",
      "roll number:11\n",
      "GRade:a\n",
      "percentage:78.0\n"
     ]
    }
   ],
   "source": [
    "roll_no=int(input(\"Enter Roll number:\"))\n",
    "grade=input(\"Enter grade:\")\n",
    "percent=float(input(\"Enter percentage\"))\n",
    "print(\"roll number:{}\".format(roll_no))\n",
    "print(\"GRade:{}\".format(grade))\n",
    "print(\"percentage:{}\".format(percent))"
   ]
  },
  {
   "cell_type": "markdown",
   "id": "e899ccaf",
   "metadata": {},
   "source": [
    "Write a program that asks the user to enter his/her name and age. Print out a message , displaying the user’s name along with the year in which they will turn 100 years old."
   ]
  },
  {
   "cell_type": "code",
   "execution_count": 4,
   "id": "d0bb3fbe",
   "metadata": {},
   "outputs": [
    {
     "name": "stdout",
     "output_type": "stream",
     "text": [
      "Enter name of person:pre,\n",
      "Enter age of person:34\n",
      "Enter current year:2022\n",
      "century year of person:2088.0\n"
     ]
    }
   ],
   "source": [
    "name=input(\"Enter name of person:\")\n",
    "age=float(input(\"Enter age of person:\"))\n",
    "cur_yr=int(input(\"Enter current year:\"))\n",
    "age_100=cur_yr +(100-age)\n",
    "print(\"century year of person:{}\".format(age_100))"
   ]
  },
  {
   "cell_type": "markdown",
   "id": "abe3a01b",
   "metadata": {},
   "source": [
    "Write a program that asks the user to input 2 integers and adds them . Accept both the numbers in a single line only\n"
   ]
  },
  {
   "cell_type": "code",
   "execution_count": 5,
   "id": "471be4df",
   "metadata": {},
   "outputs": [
    {
     "name": "stdout",
     "output_type": "stream",
     "text": [
      "enter first number2\n",
      "Enter second number:3\n",
      "sum(2,3)=5\n"
     ]
    }
   ],
   "source": [
    "a,b=int(input(\"enter first number\")),int(input(\"Enter second number:\"))\n",
    "c=a+b\n",
    "print(\"sum({},{})={}\".format(a,b,c))"
   ]
  },
  {
   "cell_type": "markdown",
   "id": "594c7e3b",
   "metadata": {},
   "source": [
    "Write a Python program which accepts the user's first and last name and print them in reverse order with a space between them."
   ]
  },
  {
   "cell_type": "code",
   "execution_count": 6,
   "id": "5947f7ec",
   "metadata": {},
   "outputs": [
    {
     "name": "stdout",
     "output_type": "stream",
     "text": [
      "enter first name:prem\n",
      "enter last name:ranjan\n",
      "najnar merp\n"
     ]
    }
   ],
   "source": [
    "fname=input(\"enter first name:\")\n",
    "lname=input(\"enter last name:\")\n",
    "s= fname +\" \"+lname\n",
    "print(s[::-1])"
   ]
  },
  {
   "cell_type": "markdown",
   "id": "40678afa",
   "metadata": {},
   "source": [
    "WAP to accept an integer from the user and check whether it is an even or odd "
   ]
  },
  {
   "cell_type": "code",
   "execution_count": 7,
   "id": "98f0287d",
   "metadata": {},
   "outputs": [
    {
     "name": "stdout",
     "output_type": "stream",
     "text": [
      "enter number:3\n",
      "its odd number\n"
     ]
    }
   ],
   "source": [
    "n=int(input(\"enter number:\"))\n",
    "if n%2==0:\n",
    "    print(\"its a even number\")\n",
    "else:\n",
    "    print(\"its odd number\")"
   ]
  },
  {
   "cell_type": "markdown",
   "id": "cbb11053",
   "metadata": {},
   "source": [
    "WAP to accept a character from the user and check whether it is a capital letter or small letter. Assume user will input only alphabets"
   ]
  },
  {
   "cell_type": "code",
   "execution_count": 8,
   "id": "6f9bd4eb",
   "metadata": {},
   "outputs": [
    {
     "name": "stdout",
     "output_type": "stream",
     "text": [
      "enter string:pem\n",
      "lower case\n"
     ]
    }
   ],
   "source": [
    "ch=input(\"enter string:\")\n",
    "if ch==ch.lower():\n",
    "    print(\"lower case\")\n",
    "else:\n",
    "    print(\"upper case\")"
   ]
  },
  {
   "cell_type": "code",
   "execution_count": 11,
   "id": "d119e294",
   "metadata": {},
   "outputs": [
    {
     "name": "stdout",
     "output_type": "stream",
     "text": [
      "1\n",
      "2\n",
      "3\n",
      "4\n",
      "5\n",
      "6\n",
      "7\n",
      "8\n",
      "9\n",
      "10\n",
      "11\n",
      "12\n",
      "13\n",
      "14\n",
      "15\n",
      "16\n",
      "17\n",
      "18\n",
      "19\n",
      "20\n",
      "21\n",
      "22\n",
      "23\n",
      "24\n",
      "25\n",
      "26\n",
      "27\n",
      "28\n",
      "29\n",
      "30\n",
      "31\n",
      "32\n",
      "33\n",
      "34\n",
      "35\n",
      "36\n",
      "37\n",
      "38\n",
      "39\n",
      "40\n",
      "41\n",
      "42\n",
      "43\n",
      "44\n",
      "45\n",
      "46\n",
      "47\n",
      "48\n",
      "49\n"
     ]
    }
   ],
   "source": [
    "x=50\n",
    "i=1\n",
    "while i<x:\n",
    "    print(i)\n",
    "    i=i+1"
   ]
  },
  {
   "cell_type": "markdown",
   "id": "e904ef54",
   "metadata": {},
   "source": [
    "WAP to accept a character from the user and check whether it is a capital letter or small letter or a digit or some special symbol"
   ]
  },
  {
   "cell_type": "code",
   "execution_count": 13,
   "id": "f844e2fb",
   "metadata": {},
   "outputs": [
    {
     "name": "stdout",
     "output_type": "stream",
     "text": [
      "Please Enter Your Own Character : %\n",
      "The Given Character  % is a Special Character\n"
     ]
    }
   ],
   "source": [
    "ch = input(\"Please Enter Your Own Character : \")\n",
    "\n",
    "if((ch >= 'a' and ch <= 'z') or (ch >= 'A' and ch <= 'Z')): \n",
    "    print(\"The Given Character \", ch, \"is an Alphabet\") \n",
    "elif(ch >= '0' and ch <= '9'):\n",
    "    print(\"The Given Character \", ch, \"is a Digit\")\n",
    "else:\n",
    "    print(\"The Given Character \", ch, \"is a Special Character\")"
   ]
  },
  {
   "cell_type": "markdown",
   "id": "bc044ba5",
   "metadata": {},
   "source": [
    "WAP to accept 3 integers from the user and without using any logical operator and cascading of relational operators , find out the greatest number amongst them"
   ]
  },
  {
   "cell_type": "code",
   "execution_count": 14,
   "id": "e7392423",
   "metadata": {},
   "outputs": [
    {
     "name": "stdout",
     "output_type": "stream",
     "text": [
      "enter first number:2\n",
      "enter second number:5\n",
      "enter third number:9\n",
      "greatest of(2,5,9)=9\n"
     ]
    }
   ],
   "source": [
    "x=int(input(\"enter first number:\"))\n",
    "y=int(input(\"enter second number:\"))\n",
    "z=int(input(\"enter third number:\"))\n",
    "greatest=max(x,y,z)\n",
    "print(\"greatest of({},{},{})={}\".format(x,y,z,greatest))\n"
   ]
  },
  {
   "cell_type": "markdown",
   "id": "4b603dbc",
   "metadata": {},
   "source": [
    "WAP to accept a year from the user and check whether it is a leap year or not"
   ]
  },
  {
   "cell_type": "code",
   "execution_count": 15,
   "id": "912111ea",
   "metadata": {},
   "outputs": [
    {
     "name": "stdout",
     "output_type": "stream",
     "text": [
      "Enter year:2006\n",
      "not a leap year\n"
     ]
    }
   ],
   "source": [
    "n=int(input(\"Enter year:\"))\n",
    "if n%4==0:\n",
    "    print(\"Given year {} is a leap year\".format(n))\n",
    "else:\n",
    "    print(\"not a leap year\")"
   ]
  },
  {
   "cell_type": "markdown",
   "id": "6ffac05b",
   "metadata": {},
   "source": [
    "Write a program to continuously accept integers from the user until the user types 0 and as soon as 0 is entered display sum of all the nos entered before 0"
   ]
  },
  {
   "cell_type": "code",
   "execution_count": 4,
   "id": "e129c15c",
   "metadata": {},
   "outputs": [
    {
     "name": "stdout",
     "output_type": "stream",
     "text": [
      "Input some integers to calculate their sum and average. Input 0 to exit.\n",
      "3\n",
      "4\n",
      "7\n",
      "0\n",
      "Sum of the above numbers are:  14.0\n"
     ]
    }
   ],
   "source": [
    "print(\"Input some integers to calculate their sum and average. Input 0 to exit.\")\n",
    "\n",
    "count = 0\n",
    "sum = 0.0\n",
    "number = 1\n",
    "\n",
    "while number != 0:\n",
    "    number = int(input(\"\"))\n",
    "    sum = sum + number\n",
    "    count += 1\n",
    "\n",
    "if count == 0:\n",
    "    print(\"Input some numbers\")\n",
    "else:\n",
    "    print(\"Sum of the above numbers are: \",sum)"
   ]
  },
  {
   "cell_type": "markdown",
   "id": "75adc6c8",
   "metadata": {},
   "source": [
    "Write a program to accept a string from the user and display it vertically but don’t display the vowels in it."
   ]
  },
  {
   "cell_type": "code",
   "execution_count": 1,
   "id": "4ede224b",
   "metadata": {},
   "outputs": [
    {
     "name": "stdout",
     "output_type": "stream",
     "text": [
      "Enter your string:prem\n",
      "\tAfter removing Vowels:  prm\n"
     ]
    }
   ],
   "source": [
    "string = input(\"Enter your string:\")\n",
    "\n",
    "vowels = ['a', 'e', 'i', 'o', 'u', 'A', 'E', 'I', 'O', 'U']\n",
    "result = \"\"\n",
    "for i in range(len(string)):\n",
    "    if string[i] not in vowels:\n",
    "        result = result + string[i]\n",
    "\n",
    "print(\"\\tAfter removing Vowels: \", result)"
   ]
  },
  {
   "cell_type": "markdown",
   "id": "1452a264",
   "metadata": {},
   "source": [
    "Write a program to accept an integer from the user and display the sum of all the numbers from 1 to that number."
   ]
  },
  {
   "cell_type": "code",
   "execution_count": 9,
   "id": "d7d421a1",
   "metadata": {},
   "outputs": [
    {
     "name": "stdout",
     "output_type": "stream",
     "text": [
      "Enter number4\n",
      "Sum of numbers is:  10\n"
     ]
    }
   ],
   "source": [
    "n = int(input(\"Enter number\"))\n",
    "sum = 0\n",
    "for num in range(1, n + 1, 1):\n",
    "    sum = sum + num\n",
    "print(\"Sum of numbers is: \", sum)"
   ]
  },
  {
   "cell_type": "markdown",
   "id": "602584f1",
   "metadata": {},
   "source": [
    "Write a program to accept an integer from the user and calculate its factorial"
   ]
  },
  {
   "cell_type": "code",
   "execution_count": 30,
   "id": "3789ba0d",
   "metadata": {},
   "outputs": [
    {
     "name": "stdout",
     "output_type": "stream",
     "text": [
      "Input a number to compute the factiorial : 5\n",
      "120\n"
     ]
    }
   ],
   "source": [
    "n=int(input(\"Input a number to compute the factiorial : \"))\n",
    "def factorial(n):\n",
    "    if n == 0:\n",
    "        return 1\n",
    "    else:\n",
    "        return n * factorial(n-1)\n",
    "print(factorial(n))"
   ]
  },
  {
   "cell_type": "markdown",
   "id": "17041cf4",
   "metadata": {},
   "source": [
    "program to print rectangle pattern"
   ]
  },
  {
   "cell_type": "code",
   "execution_count": 31,
   "id": "d7846a42",
   "metadata": {},
   "outputs": [
    {
     "name": "stdout",
     "output_type": "stream",
     "text": [
      "Please Enter the Total Number of Rows  : 4\n",
      "Please Enter the Total Number of Columns  : 4\n",
      "Rectangle Star Pattern\n",
      "*  *  *  *  \n",
      "*  *  *  *  \n",
      "*  *  *  *  \n",
      "*  *  *  *  \n"
     ]
    }
   ],
   "source": [
    "rows = int(input(\"Please Enter the Total Number of Rows  : \"))\n",
    "columns = int(input(\"Please Enter the Total Number of Columns  : \"))\n",
    "\n",
    "print(\"Rectangle Star Pattern\") \n",
    "for i in range(rows):\n",
    "    for j in range(columns):\n",
    "        print('*', end = '  ')\n",
    "    print()"
   ]
  },
  {
   "cell_type": "code",
   "execution_count": 47,
   "id": "bf9678e9",
   "metadata": {},
   "outputs": [
    {
     "name": "stdout",
     "output_type": "stream",
     "text": [
      "Enter a number:5\n",
      "* \n",
      "\n",
      "* * \n",
      "\n",
      "* * * \n",
      "\n",
      "* * * * \n",
      "\n"
     ]
    }
   ],
   "source": [
    "n=int(input(\"Enter a number:\"))\n",
    "for i in range(1,n):\n",
    "    for j in range(1,i+1):\n",
    "        print(\"*\",end=\" \")\n",
    "    print(\"\\n\")\n"
   ]
  },
  {
   "cell_type": "code",
   "execution_count": 45,
   "id": "7c199aae",
   "metadata": {},
   "outputs": [
    {
     "name": "stdout",
     "output_type": "stream",
     "text": [
      "Enter number of rows: 5\n",
      "*  *  *  *  *  \n",
      "\n",
      "*  *  *  *  \n",
      "\n",
      "*  *  *  \n",
      "\n",
      "*  *  \n",
      "\n",
      "*  \n",
      "\n"
     ]
    }
   ],
   "source": [
    "n = int(input(\"Enter number of rows: \"))\n",
    "for i in range(n, 0, -1):\n",
    "    for j in range(0, i):\n",
    "        print(\"* \", end=\" \") \n",
    "    print(\"\\n\")"
   ]
  },
  {
   "cell_type": "code",
   "execution_count": 52,
   "id": "3b3e3329",
   "metadata": {},
   "outputs": [
    {
     "name": "stdout",
     "output_type": "stream",
     "text": [
      "Enter a number: 6\n",
      "1\n",
      "2\n",
      "3\n",
      "4\n",
      "5\n",
      "6\n",
      "Enter a number: 8\n",
      "1\n",
      "2\n",
      "3\n",
      "4\n",
      "5\n",
      "6\n",
      "7\n",
      "8\n",
      "Enter a number: 0\n"
     ]
    }
   ],
   "source": [
    "x = int(input('Enter a number: '))\n",
    "while x != 0:\n",
    "    for y in range (1, x+1):\n",
    "        print (y)\n",
    "        y+=1\n",
    "    x = int(input('Enter a number: '))\n"
   ]
  },
  {
   "cell_type": "code",
   "execution_count": null,
   "id": "ec1d513d",
   "metadata": {},
   "outputs": [],
   "source": []
  }
 ],
 "metadata": {
  "kernelspec": {
   "display_name": "Python 3 (ipykernel)",
   "language": "python",
   "name": "python3"
  },
  "language_info": {
   "codemirror_mode": {
    "name": "ipython",
    "version": 3
   },
   "file_extension": ".py",
   "mimetype": "text/x-python",
   "name": "python",
   "nbconvert_exporter": "python",
   "pygments_lexer": "ipython3",
   "version": "3.9.7"
  }
 },
 "nbformat": 4,
 "nbformat_minor": 5
}

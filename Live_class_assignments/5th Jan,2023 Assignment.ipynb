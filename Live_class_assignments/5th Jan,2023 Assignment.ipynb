{
 "cells": [
  {
   "cell_type": "markdown",
   "id": "0dee72c5",
   "metadata": {},
   "source": [
    "Write a program to accept five integers from the user , store them in a list . Display these integers and also display their sum"
   ]
  },
  {
   "cell_type": "code",
   "execution_count": null,
   "id": "bf94517b",
   "metadata": {},
   "outputs": [],
   "source": [
    "# program to accept and store 5 integers from the user\n",
    "\n",
    "# empty list to store the integers\n",
    "int_list = []\n",
    "\n",
    "# get input from the user\n",
    "for i in range(5):\n",
    "    num = int(input(\"Enter an integer: \"))\n",
    "    int_list.append(num)\n",
    "\n",
    "# display the integers and their sum\n",
    "print(\"The integers are:\", int_list)\n",
    "print(\"The sum of the integers is:\", sum(int_list))"
   ]
  },
  {
   "cell_type": "markdown",
   "id": "7efb60e8",
   "metadata": {},
   "source": [
    "Write a program to accept 5 unique integers from the user. Make sure if the integer being entered is already present in the list your code displays the message “Item already present” and ask the user to reenter the integer."
   ]
  },
  {
   "cell_type": "code",
   "execution_count": 2,
   "id": "1cd6f233",
   "metadata": {},
   "outputs": [
    {
     "name": "stdout",
     "output_type": "stream",
     "text": [
      "Enter an integer: 4\n",
      "Enter an integer: 4\n",
      "Item already present. Please enter a unique integer.\n",
      "Enter an integer: 6\n",
      "Enter an integer: 7\n",
      "Enter an integer: 8\n",
      "Enter an integer: 4\n",
      "Item already present. Please enter a unique integer.\n",
      "Enter an integer: 7\n",
      "Item already present. Please enter a unique integer.\n",
      "Enter an integer: 8\n",
      "Item already present. Please enter a unique integer.\n",
      "Enter an integer: 0\n",
      "The unique integers are: [4, 6, 7, 8, 0]\n"
     ]
    }
   ],
   "source": [
    "# program to accept 5 unique integers from the user\n",
    "# empty list to store the integers\n",
    "int_list = []\n",
    "\n",
    "# get input from the user\n",
    "for i in range(5):\n",
    "    while True:\n",
    "        num = int(input(\"Enter an integer: \"))\n",
    "        if num not in int_list:\n",
    "            int_list.append(num)\n",
    "            break\n",
    "        else:\n",
    "            print(\"Item already present. Please enter a unique integer.\")\n",
    "\n",
    "# display the list of unique integers\n",
    "print(\"The unique integers are:\", int_list)"
   ]
  },
  {
   "cell_type": "markdown",
   "id": "7c450376",
   "metadata": {},
   "source": [
    "Write a program to accept 2 lists from the user of 5 nos each . Assume each list will have unique nos Now find out how many items in these lists are common ."
   ]
  },
  {
   "cell_type": "code",
   "execution_count": 3,
   "id": "baa2f711",
   "metadata": {},
   "outputs": [
    {
     "name": "stdout",
     "output_type": "stream",
     "text": [
      "Enter 5 numbers for the first list:\n",
      "6\n",
      "7\n",
      "89\n",
      "3\n",
      "4\n",
      "Enter 5 numbers for the second list:\n",
      "5\n",
      "6\n",
      "89\n",
      "4\n",
      "30\n",
      "The common items in the two lists are: {89, 4, 6}\n"
     ]
    }
   ],
   "source": [
    "# program to find common items in two lists of 5 numbers each\n",
    "# empty lists to store the numbers\n",
    "list1 = []\n",
    "list2 = []\n",
    "\n",
    "# get input from the user for the first list\n",
    "print(\"Enter 5 numbers for the first list:\")\n",
    "for i in range(5):\n",
    "    num = int(input())\n",
    "    list1.append(num)\n",
    "\n",
    "# get input from the user for the second list\n",
    "print(\"Enter 5 numbers for the second list:\")\n",
    "for i in range(5):\n",
    "    num = int(input())\n",
    "    list2.append(num)\n",
    "\n",
    "# find common items in the two lists\n",
    "common_items = set(list1) & set(list2)\n",
    "\n",
    "# display the common items\n",
    "print(\"The common items in the two lists are:\", common_items)\n"
   ]
  },
  {
   "cell_type": "markdown",
   "id": "d2b0ce99",
   "metadata": {},
   "source": [
    "Rewrite the previous code so that your code also displays the items which are common in both the lists."
   ]
  },
  {
   "cell_type": "code",
   "execution_count": 5,
   "id": "65374128",
   "metadata": {},
   "outputs": [
    {
     "name": "stdout",
     "output_type": "stream",
     "text": [
      "Enter 5 numbers for the first list:\n",
      "5\n",
      "6\n",
      "7\n",
      "8\n",
      "9\n",
      "Enter 5 numbers for the second list:\n",
      "3\n",
      "4\n",
      "5\n",
      "6\n",
      "7\n",
      "The common items in the two lists are: {5, 6, 7}\n"
     ]
    }
   ],
   "source": [
    "# program to find common items in two lists of 5 numbers each\n",
    "\n",
    "# empty lists to store the numbers\n",
    "list1 = []\n",
    "list2 = []\n",
    "\n",
    "# get input from the user for the first list\n",
    "print(\"Enter 5 numbers for the first list:\")\n",
    "for i in range(5):\n",
    "    num = int(input())\n",
    "    list1.append(num)\n",
    "\n",
    "# get input from the user for the second list\n",
    "print(\"Enter 5 numbers for the second list:\")\n",
    "for i in range(5):\n",
    "    num = int(input())\n",
    "    list2.append(num)\n",
    "\n",
    "# find common items in the two lists\n",
    "common_items = set(list1) & set(list2)\n",
    "\n",
    "# display the common items\n",
    "print(\"The common items in the two lists are:\", common_items)\n"
   ]
  },
  {
   "cell_type": "code",
   "execution_count": null,
   "id": "d40dd338",
   "metadata": {},
   "outputs": [],
   "source": []
  }
 ],
 "metadata": {
  "kernelspec": {
   "display_name": "Python 3 (ipykernel)",
   "language": "python",
   "name": "python3"
  },
  "language_info": {
   "codemirror_mode": {
    "name": "ipython",
    "version": 3
   },
   "file_extension": ".py",
   "mimetype": "text/x-python",
   "name": "python",
   "nbconvert_exporter": "python",
   "pygments_lexer": "ipython3",
   "version": "3.9.7"
  }
 },
 "nbformat": 4,
 "nbformat_minor": 5
}
